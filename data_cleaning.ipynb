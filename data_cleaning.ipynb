{
 "cells": [
  {
   "metadata": {
    "ExecuteTime": {
     "end_time": "2025-10-04T16:17:28.453575Z",
     "start_time": "2025-10-04T16:17:27.714660Z"
    }
   },
   "cell_type": "code",
   "source": [
    "import numpy as np\n",
    "import matplotlib.pyplot as plt\n",
    "import pandas as pd\n",
    "%matplotlib inline"
   ],
   "id": "fbc121e30a2defb3",
   "outputs": [],
   "execution_count": 1
  },
  {
   "metadata": {
    "ExecuteTime": {
     "end_time": "2025-10-04T17:06:05.359961Z",
     "start_time": "2025-10-04T17:06:05.353918Z"
    }
   },
   "cell_type": "code",
   "source": [
    "df = pd.read_csv(\n",
    "                'data/Student_Mental_Health.csv'\n",
    ")"
   ],
   "id": "dcfc5157bf9c2e75",
   "outputs": [],
   "execution_count": 62
  },
  {
   "metadata": {
    "ExecuteTime": {
     "end_time": "2025-10-04T17:06:07.576254Z",
     "start_time": "2025-10-04T17:06:07.566556Z"
    }
   },
   "cell_type": "code",
   "source": "df.head()",
   "id": "a10df5b7e1dcd775",
   "outputs": [
    {
     "data": {
      "text/plain": [
       "        Timestamp Choose your gender   Age What is your course?  \\\n",
       "0  8/7/2020 12:02             Female  18.0          Engineering   \n",
       "1  8/7/2020 12:04               Male  21.0    Islamic education   \n",
       "2  8/7/2020 12:05               Male  19.0                  BIT   \n",
       "3  8/7/2020 12:06             Female  22.0                 Laws   \n",
       "4  8/7/2020 12:13               Male  23.0         Mathemathics   \n",
       "\n",
       "  Your current year of Study What is your CGPA? Marital status  \\\n",
       "0                     year 1        3.00 - 3.49             No   \n",
       "1                     year 2        3.00 - 3.49             No   \n",
       "2                     Year 1        3.00 - 3.49             No   \n",
       "3                     year 3        3.00 - 3.49            Yes   \n",
       "4                     year 4        3.00 - 3.49             No   \n",
       "\n",
       "  Do you have Depression? Do you have Anxiety? Do you have Panic attack?  \\\n",
       "0                     Yes                   No                       Yes   \n",
       "1                      No                  Yes                        No   \n",
       "2                     Yes                  Yes                       Yes   \n",
       "3                     Yes                   No                        No   \n",
       "4                      No                   No                        No   \n",
       "\n",
       "  Did you seek any specialist for a treatment?  \n",
       "0                                           No  \n",
       "1                                           No  \n",
       "2                                           No  \n",
       "3                                           No  \n",
       "4                                           No  "
      ],
      "text/html": [
       "<div>\n",
       "<style scoped>\n",
       "    .dataframe tbody tr th:only-of-type {\n",
       "        vertical-align: middle;\n",
       "    }\n",
       "\n",
       "    .dataframe tbody tr th {\n",
       "        vertical-align: top;\n",
       "    }\n",
       "\n",
       "    .dataframe thead th {\n",
       "        text-align: right;\n",
       "    }\n",
       "</style>\n",
       "<table border=\"1\" class=\"dataframe\">\n",
       "  <thead>\n",
       "    <tr style=\"text-align: right;\">\n",
       "      <th></th>\n",
       "      <th>Timestamp</th>\n",
       "      <th>Choose your gender</th>\n",
       "      <th>Age</th>\n",
       "      <th>What is your course?</th>\n",
       "      <th>Your current year of Study</th>\n",
       "      <th>What is your CGPA?</th>\n",
       "      <th>Marital status</th>\n",
       "      <th>Do you have Depression?</th>\n",
       "      <th>Do you have Anxiety?</th>\n",
       "      <th>Do you have Panic attack?</th>\n",
       "      <th>Did you seek any specialist for a treatment?</th>\n",
       "    </tr>\n",
       "  </thead>\n",
       "  <tbody>\n",
       "    <tr>\n",
       "      <th>0</th>\n",
       "      <td>8/7/2020 12:02</td>\n",
       "      <td>Female</td>\n",
       "      <td>18.0</td>\n",
       "      <td>Engineering</td>\n",
       "      <td>year 1</td>\n",
       "      <td>3.00 - 3.49</td>\n",
       "      <td>No</td>\n",
       "      <td>Yes</td>\n",
       "      <td>No</td>\n",
       "      <td>Yes</td>\n",
       "      <td>No</td>\n",
       "    </tr>\n",
       "    <tr>\n",
       "      <th>1</th>\n",
       "      <td>8/7/2020 12:04</td>\n",
       "      <td>Male</td>\n",
       "      <td>21.0</td>\n",
       "      <td>Islamic education</td>\n",
       "      <td>year 2</td>\n",
       "      <td>3.00 - 3.49</td>\n",
       "      <td>No</td>\n",
       "      <td>No</td>\n",
       "      <td>Yes</td>\n",
       "      <td>No</td>\n",
       "      <td>No</td>\n",
       "    </tr>\n",
       "    <tr>\n",
       "      <th>2</th>\n",
       "      <td>8/7/2020 12:05</td>\n",
       "      <td>Male</td>\n",
       "      <td>19.0</td>\n",
       "      <td>BIT</td>\n",
       "      <td>Year 1</td>\n",
       "      <td>3.00 - 3.49</td>\n",
       "      <td>No</td>\n",
       "      <td>Yes</td>\n",
       "      <td>Yes</td>\n",
       "      <td>Yes</td>\n",
       "      <td>No</td>\n",
       "    </tr>\n",
       "    <tr>\n",
       "      <th>3</th>\n",
       "      <td>8/7/2020 12:06</td>\n",
       "      <td>Female</td>\n",
       "      <td>22.0</td>\n",
       "      <td>Laws</td>\n",
       "      <td>year 3</td>\n",
       "      <td>3.00 - 3.49</td>\n",
       "      <td>Yes</td>\n",
       "      <td>Yes</td>\n",
       "      <td>No</td>\n",
       "      <td>No</td>\n",
       "      <td>No</td>\n",
       "    </tr>\n",
       "    <tr>\n",
       "      <th>4</th>\n",
       "      <td>8/7/2020 12:13</td>\n",
       "      <td>Male</td>\n",
       "      <td>23.0</td>\n",
       "      <td>Mathemathics</td>\n",
       "      <td>year 4</td>\n",
       "      <td>3.00 - 3.49</td>\n",
       "      <td>No</td>\n",
       "      <td>No</td>\n",
       "      <td>No</td>\n",
       "      <td>No</td>\n",
       "      <td>No</td>\n",
       "    </tr>\n",
       "  </tbody>\n",
       "</table>\n",
       "</div>"
      ]
     },
     "execution_count": 63,
     "metadata": {},
     "output_type": "execute_result"
    }
   ],
   "execution_count": 63
  },
  {
   "metadata": {},
   "cell_type": "markdown",
   "source": "##### Checking for NaN Values",
   "id": "ecb57ac84b62b199"
  },
  {
   "metadata": {
    "ExecuteTime": {
     "end_time": "2025-10-04T16:48:14.919873Z",
     "start_time": "2025-10-04T16:48:14.914078Z"
    }
   },
   "cell_type": "code",
   "source": "df.isnull().sum()",
   "id": "fea5ed29e86cd410",
   "outputs": [
    {
     "data": {
      "text/plain": [
       "Timestamp                                       0\n",
       "Choose your gender                              0\n",
       "Age                                             1\n",
       "What is your course?                            0\n",
       "Your current year of Study                      0\n",
       "What is your CGPA?                              0\n",
       "Marital status                                  0\n",
       "Do you have Depression?                         0\n",
       "Do you have Anxiety?                            0\n",
       "Do you have Panic attack?                       0\n",
       "Did you seek any specialist for a treatment?    0\n",
       "dtype: int64"
      ]
     },
     "execution_count": 28,
     "metadata": {},
     "output_type": "execute_result"
    }
   ],
   "execution_count": 28
  },
  {
   "metadata": {
    "ExecuteTime": {
     "end_time": "2025-10-04T17:06:15.647411Z",
     "start_time": "2025-10-04T17:06:15.638206Z"
    }
   },
   "cell_type": "code",
   "source": "df[df.Age.isnull()]",
   "id": "85265e4c76341ba0",
   "outputs": [
    {
     "data": {
      "text/plain": [
       "         Timestamp Choose your gender  Age What is your course?  \\\n",
       "43  8/7/2020 15:07               Male  NaN                  BIT   \n",
       "\n",
       "   Your current year of Study What is your CGPA? Marital status  \\\n",
       "43                     year 1           0 - 1.99             No   \n",
       "\n",
       "   Do you have Depression? Do you have Anxiety? Do you have Panic attack?  \\\n",
       "43                      No                   No                        No   \n",
       "\n",
       "   Did you seek any specialist for a treatment?  \n",
       "43                                           No  "
      ],
      "text/html": [
       "<div>\n",
       "<style scoped>\n",
       "    .dataframe tbody tr th:only-of-type {\n",
       "        vertical-align: middle;\n",
       "    }\n",
       "\n",
       "    .dataframe tbody tr th {\n",
       "        vertical-align: top;\n",
       "    }\n",
       "\n",
       "    .dataframe thead th {\n",
       "        text-align: right;\n",
       "    }\n",
       "</style>\n",
       "<table border=\"1\" class=\"dataframe\">\n",
       "  <thead>\n",
       "    <tr style=\"text-align: right;\">\n",
       "      <th></th>\n",
       "      <th>Timestamp</th>\n",
       "      <th>Choose your gender</th>\n",
       "      <th>Age</th>\n",
       "      <th>What is your course?</th>\n",
       "      <th>Your current year of Study</th>\n",
       "      <th>What is your CGPA?</th>\n",
       "      <th>Marital status</th>\n",
       "      <th>Do you have Depression?</th>\n",
       "      <th>Do you have Anxiety?</th>\n",
       "      <th>Do you have Panic attack?</th>\n",
       "      <th>Did you seek any specialist for a treatment?</th>\n",
       "    </tr>\n",
       "  </thead>\n",
       "  <tbody>\n",
       "    <tr>\n",
       "      <th>43</th>\n",
       "      <td>8/7/2020 15:07</td>\n",
       "      <td>Male</td>\n",
       "      <td>NaN</td>\n",
       "      <td>BIT</td>\n",
       "      <td>year 1</td>\n",
       "      <td>0 - 1.99</td>\n",
       "      <td>No</td>\n",
       "      <td>No</td>\n",
       "      <td>No</td>\n",
       "      <td>No</td>\n",
       "      <td>No</td>\n",
       "    </tr>\n",
       "  </tbody>\n",
       "</table>\n",
       "</div>"
      ]
     },
     "execution_count": 64,
     "metadata": {},
     "output_type": "execute_result"
    }
   ],
   "execution_count": 64
  },
  {
   "metadata": {
    "ExecuteTime": {
     "end_time": "2025-10-04T17:06:17.660063Z",
     "start_time": "2025-10-04T17:06:17.654408Z"
    }
   },
   "cell_type": "code",
   "source": "df = df.dropna(subset=['Age'])  # only 1 value is missing",
   "id": "2720823d8743aeb2",
   "outputs": [],
   "execution_count": 65
  },
  {
   "metadata": {
    "ExecuteTime": {
     "end_time": "2025-10-04T17:06:20.078840Z",
     "start_time": "2025-10-04T17:06:20.073575Z"
    }
   },
   "cell_type": "code",
   "source": "df.isnull().sum()",
   "id": "9703efc904c32766",
   "outputs": [
    {
     "data": {
      "text/plain": [
       "Timestamp                                       0\n",
       "Choose your gender                              0\n",
       "Age                                             0\n",
       "What is your course?                            0\n",
       "Your current year of Study                      0\n",
       "What is your CGPA?                              0\n",
       "Marital status                                  0\n",
       "Do you have Depression?                         0\n",
       "Do you have Anxiety?                            0\n",
       "Do you have Panic attack?                       0\n",
       "Did you seek any specialist for a treatment?    0\n",
       "dtype: int64"
      ]
     },
     "execution_count": 66,
     "metadata": {},
     "output_type": "execute_result"
    }
   ],
   "execution_count": 66
  },
  {
   "metadata": {},
   "cell_type": "markdown",
   "source": "##### Renaming Columns",
   "id": "2f993939958635d8"
  },
  {
   "metadata": {
    "ExecuteTime": {
     "end_time": "2025-10-04T17:06:22.948283Z",
     "start_time": "2025-10-04T17:06:22.943407Z"
    }
   },
   "cell_type": "code",
   "source": "df.columns",
   "id": "d15587244ba91355",
   "outputs": [
    {
     "data": {
      "text/plain": [
       "Index(['Timestamp', 'Choose your gender', 'Age', 'What is your course?',\n",
       "       'Your current year of Study', 'What is your CGPA?', 'Marital status',\n",
       "       'Do you have Depression?', 'Do you have Anxiety?',\n",
       "       'Do you have Panic attack?',\n",
       "       'Did you seek any specialist for a treatment?'],\n",
       "      dtype='object')"
      ]
     },
     "execution_count": 67,
     "metadata": {},
     "output_type": "execute_result"
    }
   ],
   "execution_count": 67
  },
  {
   "metadata": {
    "ExecuteTime": {
     "end_time": "2025-10-04T17:06:40.390290Z",
     "start_time": "2025-10-04T17:06:40.386297Z"
    }
   },
   "cell_type": "code",
   "source": [
    "df = df.rename(columns={\n",
    "    'Timestamp': 'timestamp',\n",
    "    'Age': 'age',\n",
    "    'Choose your gender': 'gender',\n",
    "    'What is your course?': 'course',\n",
    "    'Your current year of Study': 'study_year',\n",
    "    'What is your CGPA?': 'cgpa',\n",
    "    'Marital status': \"marital_status\",\n",
    "    'Do you have Depression?': 'depression',\n",
    "    'Do you have Anxiety?': 'anxiety',\n",
    "    'Do you have Panic attack?': 'panic_attack',\n",
    "    'Did you seek any specialist for a treatment?': 'specialist_consultation_status',\n",
    "})"
   ],
   "id": "a63e245e76c3e2d",
   "outputs": [],
   "execution_count": 69
  },
  {
   "metadata": {
    "ExecuteTime": {
     "end_time": "2025-10-04T17:06:45.805840Z",
     "start_time": "2025-10-04T17:06:45.795976Z"
    }
   },
   "cell_type": "code",
   "source": "df['timestamp'] = pd.to_datetime(df['timestamp'], format='mixed', dayfirst=True, errors='coerce')",
   "id": "f5cc32fa4200af42",
   "outputs": [],
   "execution_count": 70
  },
  {
   "metadata": {
    "ExecuteTime": {
     "end_time": "2025-10-04T17:06:47.577840Z",
     "start_time": "2025-10-04T17:06:47.564477Z"
    }
   },
   "cell_type": "code",
   "source": "df.head(5)",
   "id": "10444751be13aeb2",
   "outputs": [
    {
     "data": {
      "text/plain": [
       "            timestamp  gender   age             course study_year  \\\n",
       "0 2020-07-08 12:02:00  Female  18.0        Engineering     year 1   \n",
       "1 2020-07-08 12:04:00    Male  21.0  Islamic education     year 2   \n",
       "2 2020-07-08 12:05:00    Male  19.0                BIT     Year 1   \n",
       "3 2020-07-08 12:06:00  Female  22.0               Laws     year 3   \n",
       "4 2020-07-08 12:13:00    Male  23.0       Mathemathics     year 4   \n",
       "\n",
       "          cgpa marital_status depression anxiety panic_attack  \\\n",
       "0  3.00 - 3.49             No        Yes      No          Yes   \n",
       "1  3.00 - 3.49             No         No     Yes           No   \n",
       "2  3.00 - 3.49             No        Yes     Yes          Yes   \n",
       "3  3.00 - 3.49            Yes        Yes      No           No   \n",
       "4  3.00 - 3.49             No         No      No           No   \n",
       "\n",
       "  specialist_consultation_status  \n",
       "0                             No  \n",
       "1                             No  \n",
       "2                             No  \n",
       "3                             No  \n",
       "4                             No  "
      ],
      "text/html": [
       "<div>\n",
       "<style scoped>\n",
       "    .dataframe tbody tr th:only-of-type {\n",
       "        vertical-align: middle;\n",
       "    }\n",
       "\n",
       "    .dataframe tbody tr th {\n",
       "        vertical-align: top;\n",
       "    }\n",
       "\n",
       "    .dataframe thead th {\n",
       "        text-align: right;\n",
       "    }\n",
       "</style>\n",
       "<table border=\"1\" class=\"dataframe\">\n",
       "  <thead>\n",
       "    <tr style=\"text-align: right;\">\n",
       "      <th></th>\n",
       "      <th>timestamp</th>\n",
       "      <th>gender</th>\n",
       "      <th>age</th>\n",
       "      <th>course</th>\n",
       "      <th>study_year</th>\n",
       "      <th>cgpa</th>\n",
       "      <th>marital_status</th>\n",
       "      <th>depression</th>\n",
       "      <th>anxiety</th>\n",
       "      <th>panic_attack</th>\n",
       "      <th>specialist_consultation_status</th>\n",
       "    </tr>\n",
       "  </thead>\n",
       "  <tbody>\n",
       "    <tr>\n",
       "      <th>0</th>\n",
       "      <td>2020-07-08 12:02:00</td>\n",
       "      <td>Female</td>\n",
       "      <td>18.0</td>\n",
       "      <td>Engineering</td>\n",
       "      <td>year 1</td>\n",
       "      <td>3.00 - 3.49</td>\n",
       "      <td>No</td>\n",
       "      <td>Yes</td>\n",
       "      <td>No</td>\n",
       "      <td>Yes</td>\n",
       "      <td>No</td>\n",
       "    </tr>\n",
       "    <tr>\n",
       "      <th>1</th>\n",
       "      <td>2020-07-08 12:04:00</td>\n",
       "      <td>Male</td>\n",
       "      <td>21.0</td>\n",
       "      <td>Islamic education</td>\n",
       "      <td>year 2</td>\n",
       "      <td>3.00 - 3.49</td>\n",
       "      <td>No</td>\n",
       "      <td>No</td>\n",
       "      <td>Yes</td>\n",
       "      <td>No</td>\n",
       "      <td>No</td>\n",
       "    </tr>\n",
       "    <tr>\n",
       "      <th>2</th>\n",
       "      <td>2020-07-08 12:05:00</td>\n",
       "      <td>Male</td>\n",
       "      <td>19.0</td>\n",
       "      <td>BIT</td>\n",
       "      <td>Year 1</td>\n",
       "      <td>3.00 - 3.49</td>\n",
       "      <td>No</td>\n",
       "      <td>Yes</td>\n",
       "      <td>Yes</td>\n",
       "      <td>Yes</td>\n",
       "      <td>No</td>\n",
       "    </tr>\n",
       "    <tr>\n",
       "      <th>3</th>\n",
       "      <td>2020-07-08 12:06:00</td>\n",
       "      <td>Female</td>\n",
       "      <td>22.0</td>\n",
       "      <td>Laws</td>\n",
       "      <td>year 3</td>\n",
       "      <td>3.00 - 3.49</td>\n",
       "      <td>Yes</td>\n",
       "      <td>Yes</td>\n",
       "      <td>No</td>\n",
       "      <td>No</td>\n",
       "      <td>No</td>\n",
       "    </tr>\n",
       "    <tr>\n",
       "      <th>4</th>\n",
       "      <td>2020-07-08 12:13:00</td>\n",
       "      <td>Male</td>\n",
       "      <td>23.0</td>\n",
       "      <td>Mathemathics</td>\n",
       "      <td>year 4</td>\n",
       "      <td>3.00 - 3.49</td>\n",
       "      <td>No</td>\n",
       "      <td>No</td>\n",
       "      <td>No</td>\n",
       "      <td>No</td>\n",
       "      <td>No</td>\n",
       "    </tr>\n",
       "  </tbody>\n",
       "</table>\n",
       "</div>"
      ]
     },
     "execution_count": 71,
     "metadata": {},
     "output_type": "execute_result"
    }
   ],
   "execution_count": 71
  },
  {
   "metadata": {},
   "cell_type": "markdown",
   "source": "##### Converting Data Types & Checking Outliers",
   "id": "bd0422fc3936e83d"
  },
  {
   "metadata": {
    "ExecuteTime": {
     "end_time": "2025-10-04T17:07:41.351826Z",
     "start_time": "2025-10-04T17:07:41.346285Z"
    }
   },
   "cell_type": "code",
   "source": "df.dtypes",
   "id": "6f711a96023a9ac6",
   "outputs": [
    {
     "data": {
      "text/plain": [
       "timestamp                         datetime64[ns]\n",
       "gender                                    object\n",
       "age                                      float64\n",
       "course                                    object\n",
       "study_year                                object\n",
       "cgpa                                      object\n",
       "marital_status                            object\n",
       "depression                                object\n",
       "anxiety                                   object\n",
       "panic_attack                              object\n",
       "specialist_consultation_status            object\n",
       "dtype: object"
      ]
     },
     "execution_count": 74,
     "metadata": {},
     "output_type": "execute_result"
    }
   ],
   "execution_count": 74
  },
  {
   "metadata": {
    "ExecuteTime": {
     "end_time": "2025-10-04T17:11:57.503602Z",
     "start_time": "2025-10-04T17:11:57.487464Z"
    }
   },
   "cell_type": "code",
   "source": [
    "for col in ['marital_status', 'depression', 'anxiety', 'panic_attack', 'specialist_consultation_status']:\n",
    "    print(f\"\\n{col} unique values:\")\n",
    "    print(df[col].unique())"
   ],
   "id": "13a17e72d35cb095",
   "outputs": [
    {
     "name": "stdout",
     "output_type": "stream",
     "text": [
      "\n",
      "marital_status unique values:\n",
      "['No' 'Yes']\n",
      "\n",
      "depression unique values:\n",
      "['Yes' 'No']\n",
      "\n",
      "anxiety unique values:\n",
      "['No' 'Yes']\n",
      "\n",
      "panic_attack unique values:\n",
      "['Yes' 'No']\n",
      "\n",
      "specialist_consultation_status unique values:\n",
      "['No' 'Yes']\n"
     ]
    }
   ],
   "execution_count": 75
  },
  {
   "metadata": {
    "ExecuteTime": {
     "end_time": "2025-10-04T17:13:23.565310Z",
     "start_time": "2025-10-04T17:13:23.546090Z"
    }
   },
   "cell_type": "code",
   "source": [
    "categorical_cols = [\n",
    "    'marital_status',\n",
    "    'depression',\n",
    "    'anxiety',\n",
    "    'panic_attack',\n",
    "    'specialist_consultation_status'\n",
    "]\n",
    "\n",
    "df[categorical_cols] = df[categorical_cols].astype('category')"
   ],
   "id": "cb793d9b520b9e8b",
   "outputs": [],
   "execution_count": 76
  },
  {
   "metadata": {
    "ExecuteTime": {
     "end_time": "2025-10-04T17:13:28.742584Z",
     "start_time": "2025-10-04T17:13:28.736742Z"
    }
   },
   "cell_type": "code",
   "source": "df.dtypes",
   "id": "54ed51b67e395a46",
   "outputs": [
    {
     "data": {
      "text/plain": [
       "timestamp                         datetime64[ns]\n",
       "gender                                    object\n",
       "age                                      float64\n",
       "course                                    object\n",
       "study_year                                object\n",
       "cgpa                                      object\n",
       "marital_status                          category\n",
       "depression                              category\n",
       "anxiety                                 category\n",
       "panic_attack                            category\n",
       "specialist_consultation_status          category\n",
       "dtype: object"
      ]
     },
     "execution_count": 77,
     "metadata": {},
     "output_type": "execute_result"
    }
   ],
   "execution_count": 77
  },
  {
   "metadata": {
    "ExecuteTime": {
     "end_time": "2025-10-04T17:14:37.532581Z",
     "start_time": "2025-10-04T17:14:37.527657Z"
    }
   },
   "cell_type": "code",
   "source": "df.gender.unique()",
   "id": "222c696eddafd9a4",
   "outputs": [
    {
     "data": {
      "text/plain": [
       "array(['Female', 'Male'], dtype=object)"
      ]
     },
     "execution_count": 78,
     "metadata": {},
     "output_type": "execute_result"
    }
   ],
   "execution_count": 78
  },
  {
   "metadata": {
    "ExecuteTime": {
     "end_time": "2025-10-04T17:15:47.599153Z",
     "start_time": "2025-10-04T17:15:47.589747Z"
    }
   },
   "cell_type": "code",
   "source": "df.age.value_counts()",
   "id": "d8da7224c07a840",
   "outputs": [
    {
     "data": {
      "text/plain": [
       "age\n",
       "18.0    32\n",
       "24.0    23\n",
       "19.0    21\n",
       "23.0    13\n",
       "20.0     6\n",
       "21.0     3\n",
       "22.0     2\n",
       "Name: count, dtype: int64"
      ]
     },
     "execution_count": 80,
     "metadata": {},
     "output_type": "execute_result"
    }
   ],
   "execution_count": 80
  },
  {
   "metadata": {},
   "cell_type": "markdown",
   "source": "##### Removing Duplicates",
   "id": "1193880357fa155d"
  },
  {
   "metadata": {
    "ExecuteTime": {
     "end_time": "2025-10-04T17:21:09.845217Z",
     "start_time": "2025-10-04T17:21:09.823852Z"
    }
   },
   "cell_type": "code",
   "outputs": [],
   "execution_count": 87,
   "source": "df.drop_duplicates(inplace=True)",
   "id": "cee8be9e82731b55"
  },
  {
   "metadata": {
    "ExecuteTime": {
     "end_time": "2025-10-04T17:22:14.336773Z",
     "start_time": "2025-10-04T17:22:14.293835Z"
    }
   },
   "cell_type": "code",
   "outputs": [],
   "execution_count": 88,
   "source": [
    "# saving cleaned data\n",
    "df.to_csv(\"data/processed/cleaned_data.csv\", index=False)"
   ],
   "id": "4278d91803008cba"
  },
  {
   "metadata": {
    "ExecuteTime": {
     "end_time": "2025-10-04T17:24:52.003294Z",
     "start_time": "2025-10-04T17:24:51.988157Z"
    }
   },
   "cell_type": "code",
   "outputs": [],
   "execution_count": 89,
   "source": "df['study_year'] = df['study_year'].str.strip().str.lower()",
   "id": "1512ce692da8e122"
  },
  {
   "metadata": {
    "ExecuteTime": {
     "end_time": "2025-10-04T17:25:24.924851Z",
     "start_time": "2025-10-04T17:25:24.918877Z"
    }
   },
   "cell_type": "code",
   "outputs": [
    {
     "data": {
      "text/plain": [
       "study_year\n",
       "year 1    42\n",
       "year 2    26\n",
       "year 3    24\n",
       "year 4     8\n",
       "Name: count, dtype: int64"
      ]
     },
     "execution_count": 92,
     "metadata": {},
     "output_type": "execute_result"
    }
   ],
   "execution_count": 92,
   "source": "df.study_year.value_counts()",
   "id": "fd5997780bd80146"
  }
 ],
 "metadata": {
  "kernelspec": {
   "display_name": "Python 3",
   "language": "python",
   "name": "python3"
  },
  "language_info": {
   "codemirror_mode": {
    "name": "ipython",
    "version": 2
   },
   "file_extension": ".py",
   "mimetype": "text/x-python",
   "name": "python",
   "nbconvert_exporter": "python",
   "pygments_lexer": "ipython2",
   "version": "2.7.6"
  }
 },
 "nbformat": 4,
 "nbformat_minor": 5
}
