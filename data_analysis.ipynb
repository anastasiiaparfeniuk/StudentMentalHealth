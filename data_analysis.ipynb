{
 "cells": [
  {
   "metadata": {},
   "cell_type": "markdown",
   "source": "#### The main goal of this analysis is to explore the correlation between students' academic performance and their mental health condition.",
   "id": "8b0b00c94c069362"
  },
  {
   "metadata": {
    "collapsed": true,
    "ExecuteTime": {
     "end_time": "2025-10-05T18:09:40.930411Z",
     "start_time": "2025-10-05T18:09:39.204636Z"
    }
   },
   "cell_type": "code",
   "source": [
    "import pandas as pd\n",
    "import numpy as np\n",
    "import matplotlib.pyplot as plt\n",
    "import seaborn as sns\n",
    "%matplotlib inline"
   ],
   "id": "initial_id",
   "outputs": [],
   "execution_count": 20
  },
  {
   "metadata": {
    "ExecuteTime": {
     "end_time": "2025-10-05T17:54:42.603232Z",
     "start_time": "2025-10-05T17:54:42.578502Z"
    }
   },
   "cell_type": "code",
   "source": [
    "df = pd.read_csv(\n",
    "    'data/processed/cleaned_data.csv',\n",
    ")"
   ],
   "id": "be8cdca8184db317",
   "outputs": [],
   "execution_count": 3
  },
  {
   "metadata": {
    "ExecuteTime": {
     "end_time": "2025-10-05T14:37:03.034840Z",
     "start_time": "2025-10-05T14:37:03.000397Z"
    }
   },
   "cell_type": "code",
   "source": "df.head(5)",
   "id": "24053518b9ec8f47",
   "outputs": [
    {
     "data": {
      "text/plain": [
       "             timestamp  gender   age             course study_year  \\\n",
       "0  2020-07-08 12:02:00  Female  18.0        Engineering     year 1   \n",
       "1  2020-07-08 12:04:00    Male  21.0  Islamic education     year 2   \n",
       "2  2020-07-08 12:05:00    Male  19.0                BIT     year 1   \n",
       "3  2020-07-08 12:06:00  Female  22.0               Laws     year 3   \n",
       "4  2020-07-08 12:13:00    Male  23.0       Mathemathics     year 4   \n",
       "\n",
       "          cgpa marital_status depression anxiety panic_attack  \\\n",
       "0  3.00 - 3.49             No        Yes      No          Yes   \n",
       "1  3.00 - 3.49             No         No     Yes           No   \n",
       "2  3.00 - 3.49             No        Yes     Yes          Yes   \n",
       "3  3.00 - 3.49            Yes        Yes      No           No   \n",
       "4  3.00 - 3.49             No         No      No           No   \n",
       "\n",
       "  specialist_consultation_status  \n",
       "0                             No  \n",
       "1                             No  \n",
       "2                             No  \n",
       "3                             No  \n",
       "4                             No  "
      ],
      "text/html": [
       "<div>\n",
       "<style scoped>\n",
       "    .dataframe tbody tr th:only-of-type {\n",
       "        vertical-align: middle;\n",
       "    }\n",
       "\n",
       "    .dataframe tbody tr th {\n",
       "        vertical-align: top;\n",
       "    }\n",
       "\n",
       "    .dataframe thead th {\n",
       "        text-align: right;\n",
       "    }\n",
       "</style>\n",
       "<table border=\"1\" class=\"dataframe\">\n",
       "  <thead>\n",
       "    <tr style=\"text-align: right;\">\n",
       "      <th></th>\n",
       "      <th>timestamp</th>\n",
       "      <th>gender</th>\n",
       "      <th>age</th>\n",
       "      <th>course</th>\n",
       "      <th>study_year</th>\n",
       "      <th>cgpa</th>\n",
       "      <th>marital_status</th>\n",
       "      <th>depression</th>\n",
       "      <th>anxiety</th>\n",
       "      <th>panic_attack</th>\n",
       "      <th>specialist_consultation_status</th>\n",
       "    </tr>\n",
       "  </thead>\n",
       "  <tbody>\n",
       "    <tr>\n",
       "      <th>0</th>\n",
       "      <td>2020-07-08 12:02:00</td>\n",
       "      <td>Female</td>\n",
       "      <td>18.0</td>\n",
       "      <td>Engineering</td>\n",
       "      <td>year 1</td>\n",
       "      <td>3.00 - 3.49</td>\n",
       "      <td>No</td>\n",
       "      <td>Yes</td>\n",
       "      <td>No</td>\n",
       "      <td>Yes</td>\n",
       "      <td>No</td>\n",
       "    </tr>\n",
       "    <tr>\n",
       "      <th>1</th>\n",
       "      <td>2020-07-08 12:04:00</td>\n",
       "      <td>Male</td>\n",
       "      <td>21.0</td>\n",
       "      <td>Islamic education</td>\n",
       "      <td>year 2</td>\n",
       "      <td>3.00 - 3.49</td>\n",
       "      <td>No</td>\n",
       "      <td>No</td>\n",
       "      <td>Yes</td>\n",
       "      <td>No</td>\n",
       "      <td>No</td>\n",
       "    </tr>\n",
       "    <tr>\n",
       "      <th>2</th>\n",
       "      <td>2020-07-08 12:05:00</td>\n",
       "      <td>Male</td>\n",
       "      <td>19.0</td>\n",
       "      <td>BIT</td>\n",
       "      <td>year 1</td>\n",
       "      <td>3.00 - 3.49</td>\n",
       "      <td>No</td>\n",
       "      <td>Yes</td>\n",
       "      <td>Yes</td>\n",
       "      <td>Yes</td>\n",
       "      <td>No</td>\n",
       "    </tr>\n",
       "    <tr>\n",
       "      <th>3</th>\n",
       "      <td>2020-07-08 12:06:00</td>\n",
       "      <td>Female</td>\n",
       "      <td>22.0</td>\n",
       "      <td>Laws</td>\n",
       "      <td>year 3</td>\n",
       "      <td>3.00 - 3.49</td>\n",
       "      <td>Yes</td>\n",
       "      <td>Yes</td>\n",
       "      <td>No</td>\n",
       "      <td>No</td>\n",
       "      <td>No</td>\n",
       "    </tr>\n",
       "    <tr>\n",
       "      <th>4</th>\n",
       "      <td>2020-07-08 12:13:00</td>\n",
       "      <td>Male</td>\n",
       "      <td>23.0</td>\n",
       "      <td>Mathemathics</td>\n",
       "      <td>year 4</td>\n",
       "      <td>3.00 - 3.49</td>\n",
       "      <td>No</td>\n",
       "      <td>No</td>\n",
       "      <td>No</td>\n",
       "      <td>No</td>\n",
       "      <td>No</td>\n",
       "    </tr>\n",
       "  </tbody>\n",
       "</table>\n",
       "</div>"
      ]
     },
     "execution_count": 3,
     "metadata": {},
     "output_type": "execute_result"
    }
   ],
   "execution_count": 3
  },
  {
   "metadata": {},
   "cell_type": "markdown",
   "source": "Interestingly, despite the presence of mental health concerns, only a small proportion of students reported consulting a specialist.",
   "id": "f2f71ed7e038c352"
  },
  {
   "metadata": {
    "ExecuteTime": {
     "end_time": "2025-10-05T14:45:18.091895Z",
     "start_time": "2025-10-05T14:45:18.070105Z"
    }
   },
   "cell_type": "code",
   "source": "df.specialist_consultation_status.value_counts()",
   "id": "f7e59adbb51016f9",
   "outputs": [
    {
     "data": {
      "text/plain": [
       "specialist_consultation_status\n",
       "No     94\n",
       "Yes     6\n",
       "Name: count, dtype: int64"
      ]
     },
     "execution_count": 6,
     "metadata": {},
     "output_type": "execute_result"
    }
   ],
   "execution_count": 6
  },
  {
   "metadata": {},
   "cell_type": "markdown",
   "source": "From this, it can be concluded that mental health remains an issue that is often overlooked in educational environments.",
   "id": "20429b88d51822cb"
  },
  {
   "metadata": {},
   "cell_type": "markdown",
   "source": "***",
   "id": "58cf628a304f6fc2"
  },
  {
   "metadata": {},
   "cell_type": "markdown",
   "source": "Now, let’s explore the correlation between marital status and mental health among students.",
   "id": "17f49632063516aa"
  },
  {
   "metadata": {
    "ExecuteTime": {
     "end_time": "2025-10-05T14:58:21.104729Z",
     "start_time": "2025-10-05T14:58:21.100308Z"
    }
   },
   "cell_type": "code",
   "outputs": [
    {
     "name": "stdout",
     "output_type": "stream",
     "text": [
      "Total number of students: 100\n",
      "Number of married students: 16\n"
     ]
    }
   ],
   "execution_count": 23,
   "source": [
    "married_students = df[df.marital_status == 'Yes'].shape[0]\n",
    "students = df.shape[0]\n",
    "print(f\"Total number of students: {students}\")\n",
    "print(f\"Number of married students: {married_students}\")"
   ],
   "id": "ba09dbd7faef16e8"
  },
  {
   "metadata": {
    "ExecuteTime": {
     "end_time": "2025-10-05T15:18:13.344925Z",
     "start_time": "2025-10-05T15:18:13.236359Z"
    }
   },
   "cell_type": "code",
   "source": [
    "summary = {}\n",
    "for col in df[['depression', 'anxiety', 'panic_attack']]:\n",
    "    summary[col] = (\n",
    "        pd.crosstab(df['marital_status'], df[col], normalize='index')\n",
    "        .get('Yes', 0) * 100\n",
    "    )\n",
    "\n",
    "summary_df = pd.DataFrame(summary)\n",
    "\n",
    "# Plot\n",
    "summary_df.plot(kind='bar', figsize=(7, 5))\n",
    "plt.title(\"Mental Health Conditions by Marital Status\")\n",
    "plt.ylabel(\"Percentage reporting 'Yes'\")\n",
    "plt.xlabel(\"Marital Status\")\n",
    "plt.xticks(rotation=0)\n",
    "plt.legend(title=\"Condition\")\n",
    "plt.show()"
   ],
   "id": "c81602b9a7f5f17c",
   "outputs": [
    {
     "data": {
      "text/plain": [
       "<Figure size 700x500 with 1 Axes>"
      ],
      "image/png": "[encoded data removed]"
     },
     "metadata": {},
     "output_type": "display_data"
    }
   ],
   "execution_count": 31
  },
  {
   "metadata": {},
   "cell_type": "markdown",
   "source": "Among the 100 students surveyed, only 16 are married. Within this small group, a higher percentage reported experiencing depression, anxiety, and panic attacks compared to unmarried students. This suggests a possible association between marital status and mental health, though further analysis and a larger sample would be needed to confirm it.",
   "id": "f3c5a3ee70235f0"
  },
  {
   "metadata": {},
   "cell_type": "markdown",
   "source": "***",
   "id": "15a2ac356228307a"
  },
  {
   "metadata": {},
   "cell_type": "markdown",
   "source": "For further analysis we would need to convert CGPA ranges into numeric values by mapping each range to its midpoint",
   "id": "57401a8a62e354ab"
  },
  {
   "metadata": {
    "ExecuteTime": {
     "end_time": "2025-10-05T18:02:23.166452Z",
     "start_time": "2025-10-05T18:02:23.122714Z"
    }
   },
   "cell_type": "code",
   "source": [
    "cgpa_map = {\n",
    "    '0.00 - 1.99': 1.0,\n",
    "    '2.00 - 2.49': 2.25,\n",
    "    '2.50 - 2.99': 2.75,\n",
    "    '3.00 - 3.49': 3.25,\n",
    "    '3.50 - 4.00': 3.75\n",
    "}\n",
    "df['cgpa_num'] = df['cgpa'].map(cgpa_map)"
   ],
   "id": "43040def7104bab2",
   "outputs": [],
   "execution_count": 16
  },
  {
   "metadata": {},
   "cell_type": "markdown",
   "source": "Next => Exploring a Correlation Mental Health Conditions and CGPA",
   "id": "a42b8855cf2dc60b"
  },
  {
   "metadata": {
    "ExecuteTime": {
     "end_time": "2025-10-05T18:11:46.042709Z",
     "start_time": "2025-10-05T18:11:46.031054Z"
    }
   },
   "cell_type": "code",
   "source": [
    "conditions = df[['depression', 'anxiety', 'panic_attack']]\n",
    "for condition in conditions:\n",
    "    df[condition + '_num'] = df[condition].map({'Yes': 1, 'No': 0})"
   ],
   "id": "806b95b9824d234f",
   "outputs": [],
   "execution_count": 23
  },
  {
   "metadata": {
    "ExecuteTime": {
     "end_time": "2025-10-05T18:11:52.353841Z",
     "start_time": "2025-10-05T18:11:52.037139Z"
    }
   },
   "cell_type": "code",
   "source": [
    "sns.heatmap(df[['cgpa_num', 'depression_num', 'anxiety_num', 'panic_attack_num']].corr(), annot=True, cmap='coolwarm')\n",
    "plt.title('Correlation between CGPA and Mental Health Conditions')\n",
    "plt.show()"
   ],
   "id": "ce86aa9abdd50a26",
   "outputs": [
    {
     "data": {
      "text/plain": [
       "<Figure size 640x480 with 2 Axes>"
      ],
      "image/png": "[encoded data removed]"
     },
     "metadata": {},
     "output_type": "display_data"
    }
   ],
   "execution_count": 24
  },
  {
   "metadata": {},
   "cell_type": "markdown",
   "source": "The correlation heatmap shows weak relationships between students’ CGPA and reported mental health conditions. The correlation coefficients (ranging between -0.16 and 0.10) suggest that academic performance is not strongly associated with depression, anxiety, or panic attacks in this sample. This implies that, within the given data, mental health factors do not show a clear linear impact on academic outcomes.",
   "id": "b23aa1f72c957996"
  }
 ],
 "metadata": {
  "kernelspec": {
   "display_name": "Python 3",
   "language": "python",
   "name": "python3"
  },
  "language_info": {
   "codemirror_mode": {
    "name": "ipython",
    "version": 2
   },
   "file_extension": ".py",
   "mimetype": "text/x-python",
   "name": "python",
   "nbconvert_exporter": "python",
   "pygments_lexer": "ipython2",
   "version": "2.7.6"
  }
 },
 "nbformat": 4,
 "nbformat_minor": 5
}
